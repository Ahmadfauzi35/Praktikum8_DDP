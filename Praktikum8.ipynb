{
  "nbformat": 4,
  "nbformat_minor": 0,
  "metadata": {
    "colab": {
      "provenance": [],
      "authorship_tag": "ABX9TyP1WM6IBt7TD55Sukeoozd5",
      "include_colab_link": true
    },
    "kernelspec": {
      "name": "python3",
      "display_name": "Python 3"
    },
    "language_info": {
      "name": "python"
    }
  },
  "cells": [
    {
      "cell_type": "markdown",
      "metadata": {
        "id": "view-in-github",
        "colab_type": "text"
      },
      "source": [
        "<a href=\"https://colab.research.google.com/github/Ahmadfauzi35/Praktikum8_DDP/blob/main/Praktikum8.ipynb\" target=\"_parent\"><img src=\"https://colab.research.google.com/assets/colab-badge.svg\" alt=\"Open In Colab\"/></a>"
      ]
    },
    {
      "cell_type": "code",
      "execution_count": null,
      "metadata": {
        "colab": {
          "base_uri": "https://localhost:8080/"
        },
        "id": "AjCYzMa811nm",
        "outputId": "c7019ba4-4a67-4233-ee8b-7d9f8412ab7c"
      },
      "outputs": [
        {
          "output_type": "stream",
          "name": "stdout",
          "text": [
            "Nama: Ahmad Fauzi\n",
            "Alamat: Bojong Gede\n",
            "Gender: Laki-laki\n",
            "Umur: 19\n",
            "Hobi: Game\n"
          ]
        }
      ],
      "source": [
        "def data(nama, alamat, gender, umur, hobi):\n",
        "    print(\"Nama:\", nama)\n",
        "    print(\"Alamat:\", alamat)\n",
        "    print(\"Gender:\", gender)\n",
        "    print(\"Umur:\", umur)\n",
        "    print(\"Hobi:\", hobi)\n",
        "\n",
        "data(\"Ahmad Fauzi\", \"Bojong Gede\", \"Laki-laki\", 19, \"Game\")"
      ]
    },
    {
      "cell_type": "code",
      "source": [
        "def ganjil(n):\n",
        "    for i in range(1, n+2, 2):\n",
        "     print(i)\n",
        "\n",
        "ganjil(100)"
      ],
      "metadata": {
        "colab": {
          "base_uri": "https://localhost:8080/"
        },
        "id": "Espj7gbS3JQA",
        "outputId": "af0edb42-168a-40a8-9271-6c733849927d"
      },
      "execution_count": null,
      "outputs": [
        {
          "output_type": "stream",
          "name": "stdout",
          "text": [
            "1\n",
            "3\n",
            "5\n",
            "7\n",
            "9\n",
            "11\n",
            "13\n",
            "15\n",
            "17\n",
            "19\n",
            "21\n",
            "23\n",
            "25\n",
            "27\n",
            "29\n",
            "31\n",
            "33\n",
            "35\n",
            "37\n",
            "39\n",
            "41\n",
            "43\n",
            "45\n",
            "47\n",
            "49\n",
            "51\n",
            "53\n",
            "55\n",
            "57\n",
            "59\n",
            "61\n",
            "63\n",
            "65\n",
            "67\n",
            "69\n",
            "71\n",
            "73\n",
            "75\n",
            "77\n",
            "79\n",
            "81\n",
            "83\n",
            "85\n",
            "87\n",
            "89\n",
            "91\n",
            "93\n",
            "95\n",
            "97\n",
            "99\n",
            "101\n"
          ]
        }
      ]
    },
    {
      "cell_type": "code",
      "source": [
        "def cek_kelulusan(nilai):\n",
        "    if nilai < 60:\n",
        "        return \"Gagal\"\n",
        "    elif 61 <= nilai <= 70:\n",
        "        return \"Baik\"\n",
        "    elif 71 <= nilai <= 80:\n",
        "        return \"Sangat Baik\"\n",
        "    elif 81 <= nilai <= 100:\n",
        "        return \"Perfect\"\n",
        "    else:\n",
        "        return \"Nilai tidak valid\"\n",
        "# Contoh pemanggilan fungsi\n",
        "print(cek_kelulusan(100))"
      ],
      "metadata": {
        "colab": {
          "base_uri": "https://localhost:8080/"
        },
        "id": "1JrTrM158WuX",
        "outputId": "97cf5982-3535-4923-fc8d-f6f07244bb48"
      },
      "execution_count": null,
      "outputs": [
        {
          "output_type": "stream",
          "name": "stdout",
          "text": [
            "Perfect\n"
          ]
        }
      ]
    }
  ]
}