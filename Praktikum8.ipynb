{
  "nbformat": 4,
  "nbformat_minor": 0,
  "metadata": {
    "colab": {
      "provenance": [],
      "authorship_tag": "ABX9TyOp8hk/2ZcC7QIu8BYQkmAX",
      "include_colab_link": true
    },
    "kernelspec": {
      "name": "python3",
      "display_name": "Python 3"
    },
    "language_info": {
      "name": "python"
    }
  },
  "cells": [
    {
      "cell_type": "markdown",
      "metadata": {
        "id": "view-in-github",
        "colab_type": "text"
      },
      "source": [
        "<a href=\"https://colab.research.google.com/github/Ahmadfauzi35/Praktikum8_DDP/blob/main/Praktikum8.ipynb\" target=\"_parent\"><img src=\"https://colab.research.google.com/assets/colab-badge.svg\" alt=\"Open In Colab\"/></a>"
      ]
    },
    {
      "cell_type": "code",
      "execution_count": null,
      "metadata": {
        "colab": {
          "base_uri": "https://localhost:8080/"
        },
        "id": "AjCYzMa811nm",
        "outputId": "c7019ba4-4a67-4233-ee8b-7d9f8412ab7c"
      },
      "outputs": [
        {
          "output_type": "stream",
          "name": "stdout",
          "text": [
            "Nama: Ahmad Fauzi\n",
            "Alamat: Bojong Gede\n",
            "Gender: Laki-laki\n",
            "Umur: 19\n",
            "Hobi: Game\n"
          ]
        }
      ],
      "source": [
        "def data(nama, alamat, gender, umur, hobi):\n",
        "    print(\"Nama:\", nama)\n",
        "    print(\"Alamat:\", alamat)\n",
        "    print(\"Gender:\", gender)\n",
        "    print(\"Umur:\", umur)\n",
        "    print(\"Hobi:\", hobi)\n",
        "\n",
        "data(\"Ahmad Fauzi\", \"Bojong Gede\", \"Laki-laki\", 19, \"Game\")"
      ]
    },
    {
      "cell_type": "code",
      "source": [
        "def ganjil(n):\n",
        "    for i in range(1, n+2, 2):\n",
        "     print(i)\n",
        "\n",
        "ganjil(99)"
      ],
      "metadata": {
        "colab": {
          "base_uri": "https://localhost:8080/"
        },
        "id": "Espj7gbS3JQA",
        "outputId": "4cc105cf-2e86-4f33-d151-d11ed2061721"
      },
      "execution_count": null,
      "outputs": [
        {
          "output_type": "stream",
          "name": "stdout",
          "text": [
            "1\n",
            "3\n",
            "5\n",
            "7\n",
            "9\n",
            "11\n",
            "13\n",
            "15\n",
            "17\n",
            "19\n",
            "21\n",
            "23\n",
            "25\n",
            "27\n",
            "29\n",
            "31\n",
            "33\n",
            "35\n",
            "37\n",
            "39\n",
            "41\n",
            "43\n",
            "45\n",
            "47\n",
            "49\n",
            "51\n",
            "53\n",
            "55\n",
            "57\n",
            "59\n",
            "61\n",
            "63\n",
            "65\n",
            "67\n",
            "69\n",
            "71\n",
            "73\n",
            "75\n",
            "77\n",
            "79\n",
            "81\n",
            "83\n",
            "85\n",
            "87\n",
            "89\n",
            "91\n",
            "93\n",
            "95\n",
            "97\n",
            "99\n"
          ]
        }
      ]
    },
    {
      "cell_type": "code",
      "source": [
        "def cek_kelulusan(nilai):\n",
        "    if nilai < 60:\n",
        "        return \"Gagal\"\n",
        "    elif nilai >= 61 and nilai <= 70:\n",
        "        return \"Baik\"\n",
        "    elif nilai >= 71 and nilai <= 80:\n",
        "        return \"Sangat Baik\"\n",
        "    elif nilai >= 81 and nilai <= 100:\n",
        "        return \"Perfect\"\n",
        "    else:\n",
        "        return \"Nilai tidak valid\"\n",
        "nilai = 75\n",
        "print(cek_kelulusan(nilai))"
      ],
      "metadata": {
        "colab": {
          "base_uri": "https://localhost:8080/"
        },
        "id": "1JrTrM158WuX",
        "outputId": "15d380d5-23ac-414b-bfea-60646eb38e57"
      },
      "execution_count": null,
      "outputs": [
        {
          "output_type": "stream",
          "name": "stdout",
          "text": [
            "Sangat Baik\n"
          ]
        }
      ]
    }
  ]
}